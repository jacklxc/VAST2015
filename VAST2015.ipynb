{
 "cells": [
  {
   "cell_type": "code",
   "execution_count": 1,
   "metadata": {
    "collapsed": false
   },
   "outputs": [],
   "source": [
    "import csv\n",
    "import cPickle\n",
    "import numpy as np\n",
    "import matplotlib.pyplot as plt\n",
    "\n",
    "from functions import *\n",
    "\n",
    "from sklearn.decomposition import PCA\n",
    "from person import Person\n",
    "from sklearn.cluster import KMeans\n",
    "\n",
    "%matplotlib inline\n",
    "plt.rcParams['figure.figsize'] = (10.0, 8.0) # set default size of plots\n",
    "plt.rcParams['image.interpolation'] = 'nearest'\n",
    "plt.rcParams['image.cmap'] = 'gray'\n",
    "\n",
    "# auto-reloading external modules\n",
    "# see http://stackoverflow.com/questions/1907993/autoreload-of-modules-in-ipython\n",
    "%load_ext autoreload\n",
    "%autoreload 2"
   ]
  },
  {
   "cell_type": "code",
   "execution_count": 2,
   "metadata": {
    "collapsed": false
   },
   "outputs": [],
   "source": [
    "area_name = [\"blue\",\"pink\",\"red\",\"yellow\",\"green\"]\n",
    "MAP = load_pkl(\"positions.pkl\")\n",
    "areaMAP = load_pkl(\"area.pkl\")"
   ]
  },
  {
   "cell_type": "code",
   "execution_count": 3,
   "metadata": {
    "collapsed": false
   },
   "outputs": [
    {
     "name": "stdout",
     "output_type": "stream",
     "text": [
      "100000\n",
      "The number of visitors is 1421\n",
      "200000\n",
      "The number of visitors is 2365\n",
      "300000\n",
      "The number of visitors is 2997\n",
      "400000\n",
      "The number of visitors is 3235\n",
      "500000\n",
      "The number of visitors is 3249\n",
      "600000\n",
      "The number of visitors is 3275\n",
      "700000\n",
      "The number of visitors is 3369\n",
      "800000\n",
      "The number of visitors is 3437\n",
      "900000\n",
      "The number of visitors is 3456\n",
      "1000000\n",
      "The number of visitors is 3456\n",
      "1100000\n",
      "The number of visitors is 3456\n",
      "1200000\n",
      "The number of visitors is 3456\n",
      "1300000\n",
      "The number of visitors is 3456\n",
      "1400000\n",
      "The number of visitors is 3456\n",
      "1500000\n",
      "The number of visitors is 3456\n",
      "1600000\n",
      "The number of visitors is 3456\n",
      "1700000\n",
      "The number of visitors is 3456\n",
      "1800000\n",
      "The number of visitors is 3456\n",
      "1900000\n",
      "The number of visitors is 3456\n",
      "2000000\n",
      "The number of visitors is 3456\n",
      "2100000\n",
      "The number of visitors is 3456\n",
      "2200000\n",
      "The number of visitors is 3456\n",
      "2300000\n",
      "The number of visitors is 3456\n",
      "2400000\n",
      "The number of visitors is 3463\n",
      "2500000\n",
      "The number of visitors is 3468\n",
      "2600000\n",
      "The number of visitors is 3471\n",
      "2700000\n",
      "The number of visitors is 3479\n",
      "2800000\n",
      "The number of visitors is 3494\n",
      "2900000\n",
      "The number of visitors is 3500\n",
      "3000000\n",
      "The number of visitors is 3507\n",
      "3100000\n",
      "The number of visitors is 3521\n",
      "3200000\n",
      "The number of visitors is 3524\n",
      "3300000\n",
      "The number of visitors is 3524\n",
      "3400000\n",
      "The number of visitors is 3524\n",
      "3500000\n",
      "The number of visitors is 3524\n",
      "3600000\n",
      "The number of visitors is 3524\n",
      "3700000\n",
      "The number of visitors is 3529\n",
      "3800000\n",
      "The number of visitors is 3529\n",
      "3900000\n",
      "The number of visitors is 3529\n",
      "4000000\n",
      "The number of visitors is 3529\n",
      "4100000\n",
      "The number of visitors is 3529\n",
      "4200000\n",
      "The number of visitors is 3532\n",
      "4300000\n",
      "The number of visitors is 3536\n",
      "4400000\n",
      "The number of visitors is 3548\n",
      "4500000\n",
      "The number of visitors is 3557\n",
      "4600000\n",
      "The number of visitors is 3557\n",
      "4700000\n",
      "The number of visitors is 3557\n",
      "4800000\n",
      "The number of visitors is 3557\n",
      "4900000\n",
      "The number of visitors is 3557\n",
      "5000000\n",
      "The number of visitors is 3557\n",
      "5100000\n",
      "The number of visitors is 3557\n",
      "5200000\n",
      "The number of visitors is 3557\n",
      "5300000\n",
      "The number of visitors is 3557\n",
      "5400000\n",
      "The number of visitors is 3557\n",
      "5500000\n",
      "The number of visitors is 3557\n",
      "5600000\n",
      "The number of visitors is 3557\n",
      "5700000\n",
      "The number of visitors is 3557\n",
      "5800000\n",
      "The number of visitors is 3557\n",
      "5900000\n",
      "The number of visitors is 3557\n",
      "6000000\n",
      "The number of visitors is 3557\n"
     ]
    }
   ],
   "source": [
    "visitors = {}\n",
    "with open(\"park-movement-Fri-FIXED-2.0.csv\") as csvfile:\n",
    "    reader = csv.DictReader(csvfile)\n",
    "    counter = 0\n",
    "    for row in reader:\n",
    "        ID = row[\"id\"]\n",
    "        time = row['Timestamp']\n",
    "        if ID in visitors:\n",
    "            visitors[ID].add(row)\n",
    "        else:\n",
    "            visitors[ID] = Person(row)\n",
    "        counter += 1\n",
    "        if counter%100000==0:\n",
    "            print counter\n",
    "            print \"The number of visitors is %d\" % (len(visitors),)"
   ]
  },
  {
   "cell_type": "code",
   "execution_count": 4,
   "metadata": {
    "collapsed": false
   },
   "outputs": [
    {
     "data": {
      "text/plain": [
       "dict"
      ]
     },
     "execution_count": 4,
     "metadata": {},
     "output_type": "execute_result"
    }
   ],
   "source": [
    "type(visitors)"
   ]
  },
  {
   "cell_type": "code",
   "execution_count": 5,
   "metadata": {
    "collapsed": false
   },
   "outputs": [
    {
     "name": "stdout",
     "output_type": "stream",
     "text": [
      "500\n",
      "1000\n",
      "1500\n",
      "2000\n",
      "2500\n",
      "3000\n",
      "3500\n"
     ]
    }
   ],
   "source": [
    "extract_visitors_features(visitors,MAP,areaMAP)"
   ]
  },
  {
   "cell_type": "code",
   "execution_count": 16,
   "metadata": {
    "collapsed": false
   },
   "outputs": [
    {
     "name": "stdout",
     "output_type": "stream",
     "text": [
      "(1311,)\n"
     ]
    }
   ],
   "source": [
    "interval = visitors[ID].time_interval()\n",
    "print interval.shape"
   ]
  }
 ],
 "metadata": {
  "kernelspec": {
   "display_name": "Python 2",
   "language": "python",
   "name": "python2"
  },
  "language_info": {
   "codemirror_mode": {
    "name": "ipython",
    "version": 2
   },
   "file_extension": ".py",
   "mimetype": "text/x-python",
   "name": "python",
   "nbconvert_exporter": "python",
   "pygments_lexer": "ipython2",
   "version": "2.7.11"
  }
 },
 "nbformat": 4,
 "nbformat_minor": 1
}
