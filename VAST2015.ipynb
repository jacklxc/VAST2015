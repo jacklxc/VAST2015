{
 "cells": [
  {
   "cell_type": "code",
   "execution_count": 63,
   "metadata": {
    "collapsed": false
   },
   "outputs": [
    {
     "name": "stdout",
     "output_type": "stream",
     "text": [
      "The autoreload extension is already loaded. To reload it, use:\n",
      "  %reload_ext autoreload\n"
     ]
    }
   ],
   "source": [
    "import csv\n",
    "import numpy as np\n",
    "import matplotlib.pyplot as plt\n",
    "from person import Person\n",
    "%matplotlib inline\n",
    "plt.rcParams['figure.figsize'] = (10.0, 8.0) # set default size of plots\n",
    "plt.rcParams['image.interpolation'] = 'nearest'\n",
    "plt.rcParams['image.cmap'] = 'gray'\n",
    "\n",
    "# auto-reloading external modules\n",
    "# see http://stackoverflow.com/questions/1907993/autoreload-of-modules-in-ipython\n",
    "%load_ext autoreload\n",
    "%autoreload 2"
   ]
  },
  {
   "cell_type": "code",
   "execution_count": 64,
   "metadata": {
    "collapsed": false,
    "scrolled": false
   },
   "outputs": [
    {
     "name": "stdout",
     "output_type": "stream",
     "text": [
      "1\n",
      "The number of visitors is 1\n"
     ]
    }
   ],
   "source": [
    "visitors = {}\n",
    "with open('park-movement-Fri-FIXED-2.0.csv') as csvfile:\n",
    "    reader = csv.DictReader(csvfile)\n",
    "    counter = 0\n",
    "    for row in reader:\n",
    "        ID = row[\"id\"]\n",
    "        time = row['Timestamp']\n",
    "        if ID in visitors:\n",
    "            visitors[ID].add(row)\n",
    "        else:\n",
    "            visitors[ID] = Person(row)\n",
    "        counter += 1\n",
    "        if counter >0: #counter%10000==0:\n",
    "            print counter\n",
    "            print \"The number of visitors is %d\" % (len(visitors),)\n",
    "            break"
   ]
  }
 ],
 "metadata": {
  "kernelspec": {
   "display_name": "Python 2",
   "language": "python",
   "name": "python2"
  }
 },
 "nbformat": 4,
 "nbformat_minor": 1
}
