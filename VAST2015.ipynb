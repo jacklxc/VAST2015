{
 "cells": [
  {
   "cell_type": "code",
   "execution_count": 1,
   "metadata": {
    "collapsed": false
   },
   "outputs": [],
   "source": [
    "import csv\n",
    "import cPickle\n",
    "import numpy as np\n",
    "import matplotlib.pyplot as plt\n",
    "from person import Person\n",
    "%matplotlib inline\n",
    "plt.rcParams['figure.figsize'] = (10.0, 8.0) # set default size of plots\n",
    "plt.rcParams['image.interpolation'] = 'nearest'\n",
    "plt.rcParams['image.cmap'] = 'gray'\n",
    "\n",
    "# auto-reloading external modules\n",
    "# see http://stackoverflow.com/questions/1907993/autoreload-of-modules-in-ipython\n",
    "%load_ext autoreload\n",
    "%autoreload 2\n",
    "\"\"\"\n",
    "Area number -- color\n",
    "0 -- blue\n",
    "1 -- pink\n",
    "2 -- red\n",
    "3 -- yellow\n",
    "4 -- green\n",
    "\"\"\""
   ]
  },
  {
   "cell_type": "code",
   "execution_count": 36,
   "metadata": {
    "collapsed": false
   },
   "outputs": [],
   "source": [
    "with open(\"positions.pkl\",\"rb\") as picklefile:\n",
    "    MAP = cPickle.load(picklefile)\n",
    "with open(\"area.pkl\",\"rb\") as picklefile:\n",
    "    areaMAP = cPickle.load(picklefile)"
   ]
  },
  {
   "cell_type": "code",
   "execution_count": 37,
   "metadata": {
    "collapsed": false
   },
   "outputs": [
    {
     "data": {
      "text/plain": [
       "array([[2, 2, 2, ..., 0, 0, 0],\n",
       "       [2, 2, 2, ..., 0, 0, 0],\n",
       "       [2, 2, 2, ..., 0, 0, 0],\n",
       "       ..., \n",
       "       [2, 2, 2, ..., 3, 3, 3],\n",
       "       [2, 2, 2, ..., 3, 3, 3],\n",
       "       [2, 2, 2, ..., 3, 3, 3]])"
      ]
     },
     "execution_count": 37,
     "metadata": {},
     "output_type": "execute_result"
    }
   ],
   "source": [
    "areaMAP"
   ]
  },
  {
   "cell_type": "code",
   "execution_count": null,
   "metadata": {
    "collapsed": false,
    "scrolled": false
   },
   "outputs": [],
   "source": [
    "visitors = {}\n",
    "with open('park-movement-Fri-FIXED-2.0.csv') as csvfile:\n",
    "    reader = csv.DictReader(csvfile)\n",
    "    counter = 0\n",
    "    for row in reader:\n",
    "        ID = row[\"id\"]\n",
    "        time = row['Timestamp']\n",
    "        if ID in visitors:\n",
    "            visitors[ID].add(row)\n",
    "        else:\n",
    "            visitors[ID] = Person(row)\n",
    "        counter += 1\n",
    "        if counter%100000==0:\n",
    "            print counter\n",
    "            print \"The number of visitors is %d\" % (len(visitors),)"
   ]
  },
  {
   "cell_type": "code",
   "execution_count": null,
   "metadata": {
    "collapsed": false
   },
   "outputs": [],
   "source": [
    "count = 0\n",
    "for ID in visitors.keys():\n",
    "    count+=1\n",
    "    visitor = visitors[ID]\n",
    "    visitor.extract_features(MAP)\n",
    "    if count % 500 == 0:\n",
    "        print count"
   ]
  },
  {
   "cell_type": "code",
   "execution_count": null,
   "metadata": {
    "collapsed": false,
    "scrolled": false
   },
   "outputs": [],
   "source": [
    "for i in range(visitor.time.shape[0]):\n",
    "    print \"At time %d: %d: %d, coordinate %d,%d, facility #%d\" % (visitor.time[i,0],visitor.time[i,1],visitor.time[i,2],visitor.position[i,0],visitor.position[i,1],\n",
    "    MAP[visitor.position[i,0],visitor.position[i,1]])"
   ]
  }
 ],
 "metadata": {
  "kernelspec": {
   "display_name": "Python 2",
   "language": "python",
   "name": "python2"
  },
  "language_info": {
   "codemirror_mode": {
    "name": "ipython",
    "version": 2
   },
   "file_extension": ".py",
   "mimetype": "text/x-python",
   "name": "python",
   "nbconvert_exporter": "python",
   "pygments_lexer": "ipython2",
   "version": "2.7.11"
  }
 },
 "nbformat": 4,
 "nbformat_minor": 1
}
